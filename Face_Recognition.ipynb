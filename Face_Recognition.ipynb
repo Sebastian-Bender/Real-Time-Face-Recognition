{
 "cells": [
  {
   "cell_type": "markdown",
   "id": "94f3a400",
   "metadata": {
    "id": "94f3a400"
   },
   "source": [
    "# Setup"
   ]
  },
  {
   "cell_type": "code",
   "execution_count": 1,
   "id": "e3433904",
   "metadata": {
    "id": "e3433904"
   },
   "outputs": [],
   "source": [
    "import numpy as np\n",
    "from matplotlib import pyplot as plt\n",
    "from tensorflow.keras.models import Model\n",
    "from tensorflow.keras.layers import Layer, Conv2D, Dense, MaxPooling2D, Input, Flatten\n",
    "import tensorflow as tf\n",
    "import os\n",
    "import random\n",
    "from tensorflow.keras.metrics import Precision, Recall"
   ]
  },
  {
   "cell_type": "code",
   "execution_count": 2,
   "id": "5c4951d3",
   "metadata": {
    "id": "5c4951d3"
   },
   "outputs": [],
   "source": [
    "# Avoid OOM errors by setting GPU Memory Consumption Growth\n",
    "gpus = tf.config.experimental.list_physical_devices('GPU')\n",
    "for gpu in gpus: \n",
    "    tf.config.experimental.set_memory_growth(gpu, True)"
   ]
  },
  {
   "cell_type": "code",
   "execution_count": 3,
   "id": "87b4b6f0",
   "metadata": {
    "colab": {
     "base_uri": "https://localhost:8080/"
    },
    "id": "87b4b6f0",
    "outputId": "6aaa51b9-d732-4d50-9066-4b03f1a77afe"
   },
   "outputs": [
    {
     "data": {
      "text/plain": [
       "[PhysicalDevice(name='/physical_device:GPU:0', device_type='GPU')]"
      ]
     },
     "execution_count": 3,
     "metadata": {},
     "output_type": "execute_result"
    }
   ],
   "source": [
    "gpus"
   ]
  },
  {
   "cell_type": "code",
   "execution_count": 4,
   "id": "6b252514",
   "metadata": {
    "id": "6b252514"
   },
   "outputs": [],
   "source": [
    "# Setup paths\n",
    "POS_PATH = os.path.join('data', 'positive')\n",
    "NEG_PATH = os.path.join('data', 'negative')\n",
    "ANC_PATH = os.path.join('data', 'anchor')"
   ]
  },
  {
   "cell_type": "code",
   "execution_count": null,
   "id": "ece6d7d9",
   "metadata": {
    "id": "ece6d7d9"
   },
   "outputs": [],
   "source": []
  },
  {
   "cell_type": "markdown",
   "id": "99a6e2af",
   "metadata": {
    "id": "99a6e2af"
   },
   "source": [
    "# Collecting Images"
   ]
  },
  {
   "cell_type": "code",
   "execution_count": 5,
   "id": "8c7e13e7",
   "metadata": {
    "colab": {
     "base_uri": "https://localhost:8080/"
    },
    "id": "8c7e13e7",
    "outputId": "abe03154-1d7c-4bad-dd5a-29c14326cd87"
   },
   "outputs": [
    {
     "name": "stdout",
     "output_type": "stream",
     "text": [
      "--2022-09-11 01:26:31--  http://vis-www.cs.umass.edu/lfw/lfw.tgz\n",
      "Resolving vis-www.cs.umass.edu (vis-www.cs.umass.edu)... 128.119.244.95\n",
      "Connecting to vis-www.cs.umass.edu (vis-www.cs.umass.edu)|128.119.244.95|:80... connected.\n",
      "HTTP request sent, awaiting response... 200 OK\n",
      "Length: 180566744 (172M) [application/x-gzip]\n",
      "Saving to: ‘lfw.tgz’\n",
      "\n",
      "lfw.tgz             100%[===================>] 172.20M  12.0MB/s    in 16s     \n",
      "\n",
      "2022-09-11 01:26:48 (10.7 MB/s) - ‘lfw.tgz’ saved [180566744/180566744]\n",
      "\n"
     ]
    }
   ],
   "source": [
    "#!wget http://vis-www.cs.umass.edu/lfw/lfw.tgz"
   ]
  },
  {
   "cell_type": "code",
   "execution_count": 6,
   "id": "4d550eb5",
   "metadata": {
    "id": "4d550eb5"
   },
   "outputs": [],
   "source": [
    "#!tar -xf lfw.tgz"
   ]
  },
  {
   "cell_type": "code",
   "execution_count": 7,
   "id": "9661f8d6",
   "metadata": {
    "id": "9661f8d6"
   },
   "outputs": [],
   "source": [
    "# Move Pictures to Negative examples if only one image of a person exists\n",
    "for directory in os.listdir('lfw'):\n",
    "    if len([file for file in os.listdir(os.path.join('lfw', directory))]) <= 1:\n",
    "        for file in os.listdir(os.path.join('lfw', directory)):\n",
    "            EX_PATH = os.path.join('lfw', directory, file)\n",
    "            NEW_PATH = os.path.join(NEG_PATH, file)\n",
    "            os.replace(EX_PATH, NEW_PATH)\n",
    "        os.rmdir(os.path.join('lfw', directory))"
   ]
  },
  {
   "cell_type": "code",
   "execution_count": 8,
   "id": "0903100a",
   "metadata": {
    "id": "0903100a"
   },
   "outputs": [],
   "source": [
    "# Split other pictures equally into Anchor and Positive\n",
    "# discard picture if number of pictures is uneven\n",
    "for directory in os.listdir('lfw')[:100]:\n",
    "    num_files = len([file for file in os.listdir(os.path.join('lfw', directory))])\n",
    "    if num_files % 2 != 0:\n",
    "        os.remove(os.path.join('lfw', directory, os.listdir(os.path.join('lfw', directory))[0]))\n",
    "    num_files = int(num_files / 2)\n",
    "    for dest_path in [ANC_PATH, POS_PATH]:\n",
    "        for file in os.listdir(os.path.join('lfw', directory))[:num_files]:\n",
    "            EX_PATH = os.path.join('lfw', directory, file)\n",
    "            NEW_PATH = os.path.join(dest_path, file)\n",
    "            os.replace(EX_PATH, NEW_PATH)\n",
    "    os.rmdir(os.path.join('lfw', directory))"
   ]
  },
  {
   "cell_type": "markdown",
   "id": "f2c46d0a",
   "metadata": {
    "id": "f2c46d0a"
   },
   "source": [
    "# Data Augmentation"
   ]
  },
  {
   "cell_type": "code",
   "execution_count": 9,
   "id": "b6b9450d",
   "metadata": {
    "id": "b6b9450d"
   },
   "outputs": [],
   "source": [
    "def data_aug(img):\n",
    "    data = []\n",
    "    for i in range(15):\n",
    "        img = tf.image.stateless_random_brightness(img, max_delta=0.02, seed=(1,2))\n",
    "        img = tf.image.stateless_random_contrast(img, lower=0.6, upper=1, seed=(1,3))\n",
    "        img = tf.image.stateless_random_flip_left_right(img, seed=(np.random.randint(100),np.random.randint(100)))\n",
    "        img = tf.image.stateless_random_jpeg_quality(img, min_jpeg_quality=90, max_jpeg_quality=100, seed=(np.random.randint(100),np.random.randint(100)))\n",
    "        img = tf.image.stateless_random_saturation(img, lower=0.9,upper=1, seed=(np.random.randint(100),np.random.randint(100)))\n",
    "            \n",
    "        data.append(img)\n",
    "    \n",
    "    return data"
   ]
  },
  {
   "cell_type": "code",
   "execution_count": 10,
   "id": "ceaecc39",
   "metadata": {
    "id": "ceaecc39"
   },
   "outputs": [],
   "source": [
    "import cv2\n",
    "import uuid"
   ]
  },
  {
   "cell_type": "code",
   "execution_count": 11,
   "id": "36a68a81",
   "metadata": {
    "id": "36a68a81"
   },
   "outputs": [],
   "source": [
    "for src_path in [ANC_PATH, POS_PATH]:    \n",
    "    for file_name in os.listdir(os.path.join(src_path)):\n",
    "        if file_name.split('.')[-1] != 'jpg':\n",
    "            continue\n",
    "        img_path = os.path.join(src_path, file_name)\n",
    "        img = cv2.imread(img_path)\n",
    "        augmented_images = data_aug(img) \n",
    "\n",
    "        for image in augmented_images:\n",
    "            cv2.imwrite(os.path.join(src_path, f'{file_name.split(\".\")[0]}_{uuid.uuid1()}.jpg'), image.numpy())"
   ]
  },
  {
   "cell_type": "markdown",
   "id": "b00b6064",
   "metadata": {
    "id": "b00b6064"
   },
   "source": [
    "# TensorFlow Data Pipeline"
   ]
  },
  {
   "cell_type": "code",
   "execution_count": 12,
   "id": "7b8658b8",
   "metadata": {
    "id": "7b8658b8"
   },
   "outputs": [],
   "source": [
    "anchor = tf.data.Dataset.list_files(ANC_PATH+'/*.jpg', shuffle=False).take(3000)\n",
    "positive = tf.data.Dataset.list_files(POS_PATH+'/*.jpg', shuffle=False).take(3000)\n",
    "negative = tf.data.Dataset.list_files(NEG_PATH+'/*.jpg').take(3000)"
   ]
  },
  {
   "cell_type": "markdown",
   "id": "85d77285",
   "metadata": {
    "id": "85d77285"
   },
   "source": [
    "## Preprocessing"
   ]
  },
  {
   "cell_type": "code",
   "execution_count": 13,
   "id": "c0ad46c9",
   "metadata": {
    "id": "c0ad46c9"
   },
   "outputs": [],
   "source": [
    "def preprocess(file_path):\n",
    "    byte_img = tf.io.read_file(file_path)\n",
    "    img = tf.io.decode_jpeg(byte_img)\n",
    "    \n",
    "    # Preprocessing steps - resizing the image to be 105x105x3\n",
    "    img = tf.image.resize(img, (105,105))\n",
    "    # Scale image to be between 0 and 1 \n",
    "    img = img / 255.0\n",
    "\n",
    "    return img"
   ]
  },
  {
   "cell_type": "code",
   "execution_count": 14,
   "id": "40cdb341",
   "metadata": {
    "id": "40cdb341"
   },
   "outputs": [],
   "source": [
    "img = preprocess(negative.as_numpy_iterator().next())"
   ]
  },
  {
   "cell_type": "markdown",
   "id": "6ba834a2",
   "metadata": {
    "id": "6ba834a2"
   },
   "source": [
    "## Create Labels"
   ]
  },
  {
   "cell_type": "code",
   "execution_count": 15,
   "id": "878eea80",
   "metadata": {
    "id": "878eea80"
   },
   "outputs": [],
   "source": [
    "positives = tf.data.Dataset.zip((anchor, positive, tf.data.Dataset.from_tensor_slices(tf.ones(len(anchor)))))\n",
    "negatives = tf.data.Dataset.zip((anchor, negative, tf.data.Dataset.from_tensor_slices(tf.zeros(len(anchor)))))\n",
    "data = positives.concatenate(negatives)"
   ]
  },
  {
   "cell_type": "code",
   "execution_count": 16,
   "id": "WSXCmnQJ7KGh",
   "metadata": {
    "colab": {
     "base_uri": "https://localhost:8080/"
    },
    "id": "WSXCmnQJ7KGh",
    "outputId": "8130164e-9a82-4192-becd-bbe7e7d52e28"
   },
   "outputs": [
    {
     "name": "stdout",
     "output_type": "stream",
     "text": [
      "(b'data/anchor/Aaron_Peirsol_0001.jpg', b'data/positive/Aaron_Peirsol_0002.jpg', 1.0)\n",
      "(b'data/anchor/Aaron_Peirsol_0001_35302ef8-3171-11ed-ab76-0242ac1c0002.jpg', b'data/positive/Aaron_Peirsol_0002_3c696cb6-3171-11ed-ab76-0242ac1c0002.jpg', 1.0)\n",
      "(b'data/anchor/Aaron_Peirsol_0001_353066ca-3171-11ed-ab76-0242ac1c0002.jpg', b'data/positive/Aaron_Peirsol_0002_3c69a7bc-3171-11ed-ab76-0242ac1c0002.jpg', 1.0)\n",
      "(b'data/anchor/Aaron_Peirsol_0001_35309e06-3171-11ed-ab76-0242ac1c0002.jpg', b'data/positive/Aaron_Peirsol_0002_3c69e0c4-3171-11ed-ab76-0242ac1c0002.jpg', 1.0)\n",
      "(b'data/anchor/Aaron_Peirsol_0001_3530d556-3171-11ed-ab76-0242ac1c0002.jpg', b'data/positive/Aaron_Peirsol_0002_3c6a1a94-3171-11ed-ab76-0242ac1c0002.jpg', 1.0)\n",
      "(b'data/anchor/Aaron_Peirsol_0001_35310bfc-3171-11ed-ab76-0242ac1c0002.jpg', b'data/positive/Aaron_Peirsol_0002_3c6a53b0-3171-11ed-ab76-0242ac1c0002.jpg', 1.0)\n",
      "(b'data/anchor/Aaron_Peirsol_0001_353140cc-3171-11ed-ab76-0242ac1c0002.jpg', b'data/positive/Aaron_Peirsol_0002_3c6a8aba-3171-11ed-ab76-0242ac1c0002.jpg', 1.0)\n",
      "(b'data/anchor/Aaron_Peirsol_0001_35317aa6-3171-11ed-ab76-0242ac1c0002.jpg', b'data/positive/Aaron_Peirsol_0002_3c6ac854-3171-11ed-ab76-0242ac1c0002.jpg', 1.0)\n",
      "(b'data/anchor/Aaron_Peirsol_0001_3531b6f6-3171-11ed-ab76-0242ac1c0002.jpg', b'data/positive/Aaron_Peirsol_0002_3c6b0152-3171-11ed-ab76-0242ac1c0002.jpg', 1.0)\n",
      "(b'data/anchor/Aaron_Peirsol_0001_3531f31e-3171-11ed-ab76-0242ac1c0002.jpg', b'data/positive/Aaron_Peirsol_0002_3c6b3ba4-3171-11ed-ab76-0242ac1c0002.jpg', 1.0)\n",
      "(b'data/anchor/Aaron_Peirsol_0001_3532278a-3171-11ed-ab76-0242ac1c0002.jpg', b'data/positive/Aaron_Peirsol_0002_3c6b7600-3171-11ed-ab76-0242ac1c0002.jpg', 1.0)\n",
      "(b'data/anchor/Aaron_Peirsol_0001_353273a2-3171-11ed-ab76-0242ac1c0002.jpg', b'data/positive/Aaron_Peirsol_0002_3c6bb138-3171-11ed-ab76-0242ac1c0002.jpg', 1.0)\n",
      "(b'data/anchor/Aaron_Peirsol_0001_3532acfa-3171-11ed-ab76-0242ac1c0002.jpg', b'data/positive/Aaron_Peirsol_0002_3c6bea22-3171-11ed-ab76-0242ac1c0002.jpg', 1.0)\n",
      "(b'data/anchor/Aaron_Peirsol_0001_3532e544-3171-11ed-ab76-0242ac1c0002.jpg', b'data/positive/Aaron_Peirsol_0002_3c6c258c-3171-11ed-ab76-0242ac1c0002.jpg', 1.0)\n",
      "(b'data/anchor/Aaron_Peirsol_0001_35331c08-3171-11ed-ab76-0242ac1c0002.jpg', b'data/positive/Aaron_Peirsol_0002_3c6c5ed0-3171-11ed-ab76-0242ac1c0002.jpg', 1.0)\n",
      "(b'data/anchor/Aaron_Peirsol_0001_353355e2-3171-11ed-ab76-0242ac1c0002.jpg', b'data/positive/Aaron_Peirsol_0002_3c6c98b4-3171-11ed-ab76-0242ac1c0002.jpg', 1.0)\n",
      "(b'data/anchor/Aaron_Peirsol_0004.jpg', b'data/positive/Aaron_Peirsol_0003.jpg', 1.0)\n",
      "(b'data/anchor/Aaron_Peirsol_0004_36266426-3171-11ed-ab76-0242ac1c0002.jpg', b'data/positive/Aaron_Peirsol_0003_3e0f08f0-3171-11ed-ab76-0242ac1c0002.jpg', 1.0)\n",
      "(b'data/anchor/Aaron_Peirsol_0004_3626a54e-3171-11ed-ab76-0242ac1c0002.jpg', b'data/positive/Aaron_Peirsol_0003_3e0f46c6-3171-11ed-ab76-0242ac1c0002.jpg', 1.0)\n",
      "(b'data/anchor/Aaron_Peirsol_0004_3626de24-3171-11ed-ab76-0242ac1c0002.jpg', b'data/positive/Aaron_Peirsol_0003_3e0f7f7e-3171-11ed-ab76-0242ac1c0002.jpg', 1.0)\n",
      "(b'data/anchor/Aaron_Peirsol_0004_362715d8-3171-11ed-ab76-0242ac1c0002.jpg', b'data/positive/Aaron_Peirsol_0003_3e0fbad4-3171-11ed-ab76-0242ac1c0002.jpg', 1.0)\n",
      "(b'data/anchor/Aaron_Peirsol_0004_36274ed6-3171-11ed-ab76-0242ac1c0002.jpg', b'data/positive/Aaron_Peirsol_0003_3e0ff238-3171-11ed-ab76-0242ac1c0002.jpg', 1.0)\n",
      "(b'data/anchor/Aaron_Peirsol_0004_36278ff4-3171-11ed-ab76-0242ac1c0002.jpg', b'data/positive/Aaron_Peirsol_0003_3e1029e2-3171-11ed-ab76-0242ac1c0002.jpg', 1.0)\n",
      "(b'data/anchor/Aaron_Peirsol_0004_3627cd16-3171-11ed-ab76-0242ac1c0002.jpg', b'data/positive/Aaron_Peirsol_0003_3e105cdc-3171-11ed-ab76-0242ac1c0002.jpg', 1.0)\n",
      "(b'data/anchor/Aaron_Peirsol_0004_362803b2-3171-11ed-ab76-0242ac1c0002.jpg', b'data/positive/Aaron_Peirsol_0003_3e10913e-3171-11ed-ab76-0242ac1c0002.jpg', 1.0)\n",
      "(b'data/anchor/Aaron_Peirsol_0004_36283a80-3171-11ed-ab76-0242ac1c0002.jpg', b'data/positive/Aaron_Peirsol_0003_3e10c8fc-3171-11ed-ab76-0242ac1c0002.jpg', 1.0)\n",
      "(b'data/anchor/Aaron_Peirsol_0004_3628719e-3171-11ed-ab76-0242ac1c0002.jpg', b'data/positive/Aaron_Peirsol_0003_3e10fc00-3171-11ed-ab76-0242ac1c0002.jpg', 1.0)\n",
      "(b'data/anchor/Aaron_Peirsol_0004_3628a984-3171-11ed-ab76-0242ac1c0002.jpg', b'data/positive/Aaron_Peirsol_0003_3e112f9a-3171-11ed-ab76-0242ac1c0002.jpg', 1.0)\n",
      "(b'data/anchor/Aaron_Peirsol_0004_3628e34a-3171-11ed-ab76-0242ac1c0002.jpg', b'data/positive/Aaron_Peirsol_0003_3e116302-3171-11ed-ab76-0242ac1c0002.jpg', 1.0)\n"
     ]
    }
   ],
   "source": [
    "bla = data.as_numpy_iterator()\n",
    "for _ in range(29):\n",
    "    print(bla.next())"
   ]
  },
  {
   "cell_type": "markdown",
   "id": "fe069f6c",
   "metadata": {
    "id": "fe069f6c"
   },
   "source": [
    "## Train/Test Partitions"
   ]
  },
  {
   "cell_type": "code",
   "execution_count": 17,
   "id": "774629d9",
   "metadata": {
    "id": "774629d9"
   },
   "outputs": [],
   "source": [
    "def preprocess_twin(input_img, validation_img, label):\n",
    "    return(preprocess(input_img), preprocess(validation_img), label)"
   ]
  },
  {
   "cell_type": "code",
   "execution_count": null,
   "id": "ad6ad93a",
   "metadata": {
    "id": "ad6ad93a"
   },
   "outputs": [],
   "source": []
  },
  {
   "cell_type": "code",
   "execution_count": 18,
   "id": "7b93267e",
   "metadata": {
    "id": "7b93267e"
   },
   "outputs": [],
   "source": [
    "# Build dataloader pipeline\n",
    "data = data.map(preprocess_twin)\n",
    "data = data.cache()\n",
    "data = data.shuffle(buffer_size=len(data))"
   ]
  },
  {
   "cell_type": "code",
   "execution_count": 19,
   "id": "f2ab2569",
   "metadata": {
    "id": "f2ab2569"
   },
   "outputs": [],
   "source": [
    "# Training partition\n",
    "train_data = data.take(round(len(data)*.7))\n",
    "train_data = train_data.batch(16)\n",
    "train_data = train_data.prefetch(4)"
   ]
  },
  {
   "cell_type": "code",
   "execution_count": 20,
   "id": "27f689a1",
   "metadata": {
    "id": "27f689a1"
   },
   "outputs": [],
   "source": [
    "# Testing partition\n",
    "test_data = data.skip(round(len(data)*.7))\n",
    "test_data = test_data.take(round(len(data)*.3))\n",
    "test_data = test_data.batch(16)\n",
    "test_data = test_data.prefetch(4)"
   ]
  },
  {
   "cell_type": "markdown",
   "id": "b98c1c6c",
   "metadata": {
    "id": "b98c1c6c"
   },
   "source": [
    "# Build Deep Learning Model"
   ]
  },
  {
   "cell_type": "code",
   "execution_count": 21,
   "id": "4da2c4cb",
   "metadata": {
    "id": "4da2c4cb"
   },
   "outputs": [],
   "source": [
    "def make_embedding():\n",
    "    inp = Input(shape=(105,105,3), name='input_image')\n",
    "\n",
    "    conv1 = Conv2D(64, (10,10), activation='relu')(inp)\n",
    "    mpool1 = MaxPooling2D(64, (2,2), padding='same')(conv1)\n",
    "\n",
    "    conv2 = Conv2D(128, (7,7), activation='relu')(mpool1)\n",
    "    mpool2 = MaxPooling2D(64, (2,2), padding='same')(conv2)\n",
    "\n",
    "    conv3 = Conv2D(128, (4,4), activation='relu')(mpool2)\n",
    "    mpool3 = MaxPooling2D(64, (2,2), padding='same')(conv3)\n",
    "\n",
    "    conv4 = Conv2D(256, (4,4), activation='relu')(mpool3)\n",
    "    flatten = Flatten()(conv4)\n",
    "    fc1 = Dense(4096, activation='sigmoid')(flatten)\n",
    "    \n",
    "    return Model(inputs=[inp], outputs=[fc1], name='embedding')"
   ]
  },
  {
   "cell_type": "code",
   "execution_count": 22,
   "id": "e5cd8b32",
   "metadata": {
    "id": "e5cd8b32"
   },
   "outputs": [],
   "source": [
    "embedding = make_embedding()"
   ]
  },
  {
   "cell_type": "code",
   "execution_count": 23,
   "id": "06d0a628",
   "metadata": {
    "colab": {
     "base_uri": "https://localhost:8080/"
    },
    "id": "06d0a628",
    "outputId": "79b25328-dcb8-4e2c-dc41-b0c98358725e"
   },
   "outputs": [
    {
     "name": "stdout",
     "output_type": "stream",
     "text": [
      "Model: \"embedding\"\n",
      "_________________________________________________________________\n",
      " Layer (type)                Output Shape              Param #   \n",
      "=================================================================\n",
      " input_image (InputLayer)    [(None, 105, 105, 3)]     0         \n",
      "                                                                 \n",
      " conv2d (Conv2D)             (None, 96, 96, 64)        19264     \n",
      "                                                                 \n",
      " max_pooling2d (MaxPooling2D  (None, 48, 48, 64)       0         \n",
      " )                                                               \n",
      "                                                                 \n",
      " conv2d_1 (Conv2D)           (None, 42, 42, 128)       401536    \n",
      "                                                                 \n",
      " max_pooling2d_1 (MaxPooling  (None, 21, 21, 128)      0         \n",
      " 2D)                                                             \n",
      "                                                                 \n",
      " conv2d_2 (Conv2D)           (None, 18, 18, 128)       262272    \n",
      "                                                                 \n",
      " max_pooling2d_2 (MaxPooling  (None, 9, 9, 128)        0         \n",
      " 2D)                                                             \n",
      "                                                                 \n",
      " conv2d_3 (Conv2D)           (None, 6, 6, 256)         524544    \n",
      "                                                                 \n",
      " flatten (Flatten)           (None, 9216)              0         \n",
      "                                                                 \n",
      " dense (Dense)               (None, 4096)              37752832  \n",
      "                                                                 \n",
      "=================================================================\n",
      "Total params: 38,960,448\n",
      "Trainable params: 38,960,448\n",
      "Non-trainable params: 0\n",
      "_________________________________________________________________\n"
     ]
    }
   ],
   "source": [
    "embedding.summary()"
   ]
  },
  {
   "cell_type": "markdown",
   "id": "c33b81e2",
   "metadata": {
    "id": "c33b81e2"
   },
   "source": [
    "## Build L1-Distance Layer"
   ]
  },
  {
   "cell_type": "code",
   "execution_count": 24,
   "id": "fa8f1a3e",
   "metadata": {
    "id": "fa8f1a3e"
   },
   "outputs": [],
   "source": [
    "class L1Dist(Layer):\n",
    "    \n",
    "    def __init__(self, **kwargs):\n",
    "        super().__init__()\n",
    "        \n",
    "    def call(self, input_embedding, validation_embedding):\n",
    "        return tf.math.abs(input_embedding - validation_embedding)"
   ]
  },
  {
   "cell_type": "code",
   "execution_count": 25,
   "id": "621d5943",
   "metadata": {
    "id": "621d5943"
   },
   "outputs": [],
   "source": [
    "l1 = L1Dist()"
   ]
  },
  {
   "cell_type": "markdown",
   "id": "ba07b1b4",
   "metadata": {
    "id": "ba07b1b4"
   },
   "source": [
    "## Build Siamese Model"
   ]
  },
  {
   "cell_type": "code",
   "execution_count": 26,
   "id": "b8609e45",
   "metadata": {
    "id": "b8609e45"
   },
   "outputs": [],
   "source": [
    "def make_siamese_model(): \n",
    "    \n",
    "    # Anchor image input in the network\n",
    "    input_image = Input(name='input_img', shape=(105,105,3))\n",
    "    \n",
    "    # Validation image in the network \n",
    "    validation_image = Input(name='validation_img', shape=(105,105,3))\n",
    "    \n",
    "    # Combine siamese distance components\n",
    "    siamese_layer = L1Dist()\n",
    "    siamese_layer._name = 'distance'\n",
    "    distances = siamese_layer(embedding(input_image), embedding(validation_image))\n",
    "    \n",
    "    # Classification layer \n",
    "    classifier = Dense(1, activation='sigmoid')(distances)\n",
    "    \n",
    "    return Model(inputs=[input_image, validation_image], outputs=classifier, name='SiameseNetwork')"
   ]
  },
  {
   "cell_type": "code",
   "execution_count": 27,
   "id": "10de307e",
   "metadata": {
    "colab": {
     "base_uri": "https://localhost:8080/"
    },
    "id": "10de307e",
    "outputId": "665953ab-1104-4a0f-a3ce-96185fa23be8"
   },
   "outputs": [
    {
     "name": "stdout",
     "output_type": "stream",
     "text": [
      "Model: \"SiameseNetwork\"\n",
      "__________________________________________________________________________________________________\n",
      " Layer (type)                   Output Shape         Param #     Connected to                     \n",
      "==================================================================================================\n",
      " input_img (InputLayer)         [(None, 105, 105, 3  0           []                               \n",
      "                                )]                                                                \n",
      "                                                                                                  \n",
      " validation_img (InputLayer)    [(None, 105, 105, 3  0           []                               \n",
      "                                )]                                                                \n",
      "                                                                                                  \n",
      " embedding (Functional)         (None, 4096)         38960448    ['input_img[0][0]',              \n",
      "                                                                  'validation_img[0][0]']         \n",
      "                                                                                                  \n",
      " distance (L1Dist)              (None, 4096)         0           ['embedding[0][0]',              \n",
      "                                                                  'embedding[1][0]']              \n",
      "                                                                                                  \n",
      " dense_1 (Dense)                (None, 1)            4097        ['distance[0][0]']               \n",
      "                                                                                                  \n",
      "==================================================================================================\n",
      "Total params: 38,964,545\n",
      "Trainable params: 38,964,545\n",
      "Non-trainable params: 0\n",
      "__________________________________________________________________________________________________\n"
     ]
    }
   ],
   "source": [
    "siamese_model = make_siamese_model()\n",
    "siamese_model.summary()"
   ]
  },
  {
   "cell_type": "markdown",
   "id": "2dd61bb7",
   "metadata": {
    "id": "2dd61bb7"
   },
   "source": [
    "# Training"
   ]
  },
  {
   "cell_type": "markdown",
   "id": "8e744f9b",
   "metadata": {
    "id": "8e744f9b"
   },
   "source": [
    "## Optimizer and Loss"
   ]
  },
  {
   "cell_type": "code",
   "execution_count": 28,
   "id": "e597cc67",
   "metadata": {
    "id": "e597cc67"
   },
   "outputs": [],
   "source": [
    "optim = tf.keras.optimizers.Adam(0.0001)"
   ]
  },
  {
   "cell_type": "code",
   "execution_count": 29,
   "id": "43796b0f",
   "metadata": {
    "id": "43796b0f"
   },
   "outputs": [],
   "source": [
    "bce_loss = tf.losses.BinaryCrossentropy()"
   ]
  },
  {
   "cell_type": "code",
   "execution_count": 30,
   "id": "3bb55dd6",
   "metadata": {
    "id": "3bb55dd6"
   },
   "outputs": [],
   "source": [
    "@tf.function\n",
    "def train_step(batch):\n",
    "    \n",
    "    # Record all of our operations \n",
    "    with tf.GradientTape() as tape:     \n",
    "        # Get anchor and positive/negative image\n",
    "        X = batch[:2]\n",
    "        # label\n",
    "        y = batch[2]\n",
    "        \n",
    "        # Forward pass\n",
    "        yhat = siamese_model(X, training=True)\n",
    "        # Calculate loss\n",
    "        loss = bce_loss(y, yhat)\n",
    "    print(loss)\n",
    "        \n",
    "    grad = tape.gradient(loss, siamese_model.trainable_variables)\n",
    "    \n",
    "    optim.apply_gradients(zip(grad, siamese_model.trainable_variables))\n",
    "        \n",
    "    \n",
    "    return loss"
   ]
  },
  {
   "cell_type": "code",
   "execution_count": 31,
   "id": "603bda9f",
   "metadata": {
    "id": "603bda9f"
   },
   "outputs": [],
   "source": [
    "from tensorflow.keras.metrics import Precision, Recall"
   ]
  },
  {
   "cell_type": "code",
   "execution_count": 32,
   "id": "9500b5f7",
   "metadata": {
    "id": "9500b5f7"
   },
   "outputs": [],
   "source": [
    "def train(data, EPOCHS):\n",
    "    for epoch in range(1, EPOCHS+1):\n",
    "        print(f'\\n Epoch {epoch}/{EPOCHS}')\n",
    "        progbar = tf.keras.utils.Progbar(len(data))\n",
    "        \n",
    "        r = Recall()\n",
    "        p = Precision()\n",
    "        \n",
    "        for idx, batch in enumerate(data):\n",
    "            # Run train step here\n",
    "            loss = train_step(batch)\n",
    "            yhat = siamese_model.predict(batch[:2])\n",
    "            r.update_state(batch[2], yhat)\n",
    "            p.update_state(batch[2], yhat) \n",
    "            progbar.update(idx+1)\n",
    "        print(loss.numpy(), r.result().numpy(), p.result().numpy())\n",
    "        #print(loss.numpy())\n",
    "        "
   ]
  },
  {
   "cell_type": "code",
   "execution_count": 33,
   "id": "f88ef1e9",
   "metadata": {
    "colab": {
     "base_uri": "https://localhost:8080/"
    },
    "id": "f88ef1e9",
    "outputId": "2601d76b-6442-4aff-efeb-5e958fd27255"
   },
   "outputs": [
    {
     "name": "stdout",
     "output_type": "stream",
     "text": [
      "\n",
      " Epoch 1/50\n",
      "Tensor(\"binary_crossentropy/weighted_loss/value:0\", shape=(), dtype=float32)\n",
      "Tensor(\"binary_crossentropy/weighted_loss/value:0\", shape=(), dtype=float32)\n",
      "262/263 [============================>.] - ETA: 0sTensor(\"binary_crossentropy/weighted_loss/value:0\", shape=(), dtype=float32)\n",
      "263/263 [==============================] - 105s 322ms/step\n",
      "0.37013683 0.65457183 0.8667521\n",
      "\n",
      " Epoch 2/50\n",
      "263/263 [==============================] - 85s 322ms/step\n",
      "0.21318305 0.81160116 0.9019712\n",
      "\n",
      " Epoch 3/50\n",
      "263/263 [==============================] - 83s 317ms/step\n",
      "0.18969089 0.87291765 0.91608393\n",
      "\n",
      " Epoch 4/50\n",
      "263/263 [==============================] - 84s 318ms/step\n",
      "0.13963063 0.9026253 0.9287819\n",
      "\n",
      " Epoch 5/50\n",
      "263/263 [==============================] - 85s 322ms/step\n",
      "0.30000708 0.9276938 0.9272556\n",
      "\n",
      " Epoch 6/50\n",
      "263/263 [==============================] - 85s 323ms/step\n",
      "0.14820184 0.93762 0.93762\n",
      "\n",
      " Epoch 7/50\n",
      "263/263 [==============================] - 84s 320ms/step\n",
      "0.12285134 0.9431873 0.93956834\n",
      "\n",
      " Epoch 8/50\n",
      "263/263 [==============================] - 85s 322ms/step\n",
      "0.2381955 0.9561487 0.941784\n",
      "\n",
      " Epoch 9/50\n",
      "263/263 [==============================] - 83s 315ms/step\n",
      "0.32800925 0.95014244 0.95014244\n",
      "\n",
      " Epoch 10/50\n",
      "263/263 [==============================] - 82s 312ms/step\n",
      "0.12510845 0.9559513 0.9461967\n",
      "\n",
      " Epoch 11/50\n",
      "263/263 [==============================] - 85s 322ms/step\n",
      "0.021936757 0.96647507 0.951438\n",
      "\n",
      " Epoch 12/50\n",
      "263/263 [==============================] - 84s 318ms/step\n",
      "0.09648712 0.97077143 0.9565628\n",
      "\n",
      " Epoch 13/50\n",
      "263/263 [==============================] - 83s 315ms/step\n",
      "0.017644431 0.9649544 0.9621829\n",
      "\n",
      " Epoch 14/50\n",
      "263/263 [==============================] - 84s 316ms/step\n",
      "0.13292679 0.96953833 0.9599435\n",
      "\n",
      " Epoch 15/50\n",
      "263/263 [==============================] - 84s 319ms/step\n",
      "0.12079202 0.97079605 0.9617359\n",
      "\n",
      " Epoch 16/50\n",
      "263/263 [==============================] - 84s 319ms/step\n",
      "0.3344376 0.98343587 0.9701214\n",
      "\n",
      " Epoch 17/50\n",
      "263/263 [==============================] - 84s 320ms/step\n",
      "0.01177859 0.97815764 0.96713614\n",
      "\n",
      " Epoch 18/50\n",
      "263/263 [==============================] - 83s 316ms/step\n",
      "0.15809852 0.98079693 0.9756447\n",
      "\n",
      " Epoch 19/50\n",
      "263/263 [==============================] - 83s 317ms/step\n",
      "0.53689015 0.9844633 0.9730107\n",
      "\n",
      " Epoch 20/50\n",
      "263/263 [==============================] - 85s 323ms/step\n",
      "0.15646161 0.9788335 0.9683574\n",
      "\n",
      " Epoch 21/50\n",
      "263/263 [==============================] - 85s 325ms/step\n",
      "0.048404776 0.98756576 0.9800664\n",
      "\n",
      " Epoch 22/50\n",
      "263/263 [==============================] - 86s 327ms/step\n",
      "0.49171934 0.9833887 0.9787435\n",
      "\n",
      " Epoch 23/50\n",
      "263/263 [==============================] - 86s 327ms/step\n",
      "0.09864426 0.986532 0.9794651\n",
      "\n",
      " Epoch 24/50\n",
      "263/263 [==============================] - 87s 329ms/step\n",
      "0.012344026 0.9877877 0.9763231\n",
      "\n",
      " Epoch 25/50\n",
      "263/263 [==============================] - 86s 328ms/step\n",
      "0.00883844 0.98759544 0.986654\n",
      "\n",
      " Epoch 26/50\n",
      "263/263 [==============================] - 83s 315ms/step\n",
      "0.055182803 0.99155325 0.9873832\n",
      "\n",
      " Epoch 27/50\n",
      "263/263 [==============================] - 84s 319ms/step\n",
      "0.0018472872 0.99012697 0.98457223\n",
      "\n",
      " Epoch 28/50\n",
      "263/263 [==============================] - 84s 319ms/step\n",
      "0.009085026 0.9917755 0.9884282\n",
      "\n",
      " Epoch 29/50\n",
      "263/263 [==============================] - 83s 315ms/step\n",
      "0.0060991505 0.99113804 0.9837963\n",
      "\n",
      " Epoch 30/50\n",
      "263/263 [==============================] - 84s 320ms/step\n",
      "0.042011302 0.9919125 0.98628193\n",
      "\n",
      " Epoch 31/50\n",
      "263/263 [==============================] - 83s 316ms/step\n",
      "0.078329384 0.9934087 0.9887535\n",
      "\n",
      " Epoch 32/50\n",
      "263/263 [==============================] - 85s 321ms/step\n",
      "0.03000152 0.99 0.98717946\n",
      "\n",
      " Epoch 33/50\n",
      "263/263 [==============================] - 84s 319ms/step\n",
      "0.0020282497 0.9905303 0.9924099\n",
      "\n",
      " Epoch 34/50\n",
      "263/263 [==============================] - 83s 315ms/step\n",
      "0.0008974249 0.99523354 0.9891047\n",
      "\n",
      " Epoch 35/50\n",
      "263/263 [==============================] - 85s 323ms/step\n",
      "0.0074273455 0.9903568 0.98702544\n",
      "\n",
      " Epoch 36/50\n",
      "263/263 [==============================] - 85s 321ms/step\n",
      "0.008863011 0.99338377 0.99104196\n",
      "\n",
      " Epoch 37/50\n",
      "263/263 [==============================] - 82s 312ms/step\n",
      "0.006609459 0.98960304 0.99147725\n",
      "\n",
      " Epoch 38/50\n",
      "263/263 [==============================] - 84s 318ms/step\n",
      "0.07005429 0.9985625 0.99285376\n",
      "\n",
      " Epoch 39/50\n",
      "263/263 [==============================] - 84s 318ms/step\n",
      "0.01932351 0.99526066 0.9915014\n",
      "\n",
      " Epoch 40/50\n",
      "263/263 [==============================] - 84s 318ms/step\n",
      "0.03478804 0.9929212 0.99338996\n",
      "\n",
      " Epoch 41/50\n",
      "263/263 [==============================] - 84s 318ms/step\n",
      "0.00077924295 0.9980704 0.9928023\n",
      "\n",
      " Epoch 42/50\n",
      "263/263 [==============================] - 84s 318ms/step\n",
      "0.0056125955 0.99623704 0.99576867\n",
      "\n",
      " Epoch 43/50\n",
      "263/263 [==============================] - 85s 320ms/step\n",
      "0.1969057 0.9961353 0.9932563\n",
      "\n",
      " Epoch 44/50\n",
      "263/263 [==============================] - 84s 319ms/step\n",
      "0.012681326 0.9966683 0.9933586\n",
      "\n",
      " Epoch 45/50\n",
      "263/263 [==============================] - 82s 311ms/step\n",
      "0.043178447 0.9956793 0.993295\n",
      "\n",
      " Epoch 46/50\n",
      "263/263 [==============================] - 82s 310ms/step\n",
      "0.001702064 0.9875836 0.99089605\n",
      "\n",
      " Epoch 47/50\n",
      "263/263 [==============================] - 82s 313ms/step\n",
      "0.0015216654 0.99618137 0.9976099\n",
      "\n",
      " Epoch 48/50\n",
      "263/263 [==============================] - 83s 315ms/step\n",
      "0.0035632104 0.9990366 0.9923445\n",
      "\n",
      " Epoch 49/50\n",
      "263/263 [==============================] - 83s 315ms/step\n",
      "0.0017408992 0.99905974 0.9976526\n",
      "\n",
      " Epoch 50/50\n",
      "263/263 [==============================] - 84s 318ms/step\n",
      "0.114159286 1.0 0.9980861\n"
     ]
    }
   ],
   "source": [
    "train(train_data, 50)"
   ]
  },
  {
   "cell_type": "code",
   "execution_count": 34,
   "id": "243b36f4",
   "metadata": {
    "id": "243b36f4"
   },
   "outputs": [],
   "source": [
    "test_batch = train_data.as_numpy_iterator()"
   ]
  },
  {
   "cell_type": "code",
   "execution_count": 35,
   "id": "70d0f394",
   "metadata": {
    "id": "70d0f394"
   },
   "outputs": [],
   "source": [
    "bla = test_batch.next()"
   ]
  },
  {
   "cell_type": "code",
   "execution_count": 36,
   "id": "4ed494b4",
   "metadata": {
    "colab": {
     "base_uri": "https://localhost:8080/"
    },
    "id": "4ed494b4",
    "outputId": "6bf14b17-be64-4485-d12a-ef8d8f37d57c"
   },
   "outputs": [
    {
     "data": {
      "text/plain": [
       "array([[9.9937940e-01],\n",
       "       [8.0694944e-01],\n",
       "       [9.8504817e-01],\n",
       "       [9.9599224e-01],\n",
       "       [3.2039650e-02],\n",
       "       [9.9945956e-01],\n",
       "       [9.9129969e-01],\n",
       "       [9.8297358e-01],\n",
       "       [5.7694603e-08],\n",
       "       [3.5545064e-13],\n",
       "       [9.5312548e-01],\n",
       "       [3.2268730e-13],\n",
       "       [9.9999988e-01],\n",
       "       [1.4862908e-12],\n",
       "       [6.9120574e-08],\n",
       "       [9.9997067e-01]], dtype=float32)"
      ]
     },
     "execution_count": 36,
     "metadata": {},
     "output_type": "execute_result"
    }
   ],
   "source": [
    "out = siamese_model.predict(bla[:2])\n",
    "out"
   ]
  },
  {
   "cell_type": "code",
   "execution_count": 37,
   "id": "c575a404",
   "metadata": {
    "colab": {
     "base_uri": "https://localhost:8080/"
    },
    "id": "c575a404",
    "outputId": "44f7a2c4-8623-43f5-f5d8-043147110bfc"
   },
   "outputs": [
    {
     "data": {
      "text/plain": [
       "<tf.Tensor: shape=(), dtype=float32, numpy=4.658022>"
      ]
     },
     "execution_count": 37,
     "metadata": {},
     "output_type": "execute_result"
    }
   ],
   "source": [
    "bce_loss(bla[2], out)"
   ]
  },
  {
   "cell_type": "code",
   "execution_count": null,
   "id": "2qxEDWUhTIhA",
   "metadata": {
    "id": "2qxEDWUhTIhA"
   },
   "outputs": [],
   "source": []
  },
  {
   "cell_type": "code",
   "execution_count": null,
   "id": "711ce39b",
   "metadata": {
    "id": "711ce39b"
   },
   "outputs": [],
   "source": []
  },
  {
   "cell_type": "markdown",
   "id": "_7N-DKzTTKFX",
   "metadata": {
    "id": "_7N-DKzTTKFX"
   },
   "source": [
    "# Test Model"
   ]
  },
  {
   "cell_type": "code",
   "execution_count": 38,
   "id": "ve1d9-WtTMRo",
   "metadata": {
    "colab": {
     "base_uri": "https://localhost:8080/"
    },
    "id": "ve1d9-WtTMRo",
    "outputId": "94f32453-8d06-472c-c897-b884d68ff6f7"
   },
   "outputs": [
    {
     "name": "stdout",
     "output_type": "stream",
     "text": [
      "0.9842873 0.9909605\n"
     ]
    }
   ],
   "source": [
    "r = Recall()\n",
    "p = Precision()\n",
    "\n",
    "for test_input, test_val, y_true in test_data.as_numpy_iterator():\n",
    "    yhat = siamese_model.predict([test_input, test_val])\n",
    "    r.update_state(y_true, yhat)\n",
    "    p.update_state(y_true,yhat) \n",
    "\n",
    "print(r.result().numpy(), p.result().numpy())"
   ]
  },
  {
   "cell_type": "markdown",
   "id": "ncFYsLobTUSb",
   "metadata": {
    "id": "ncFYsLobTUSb"
   },
   "source": [
    "# Save Model"
   ]
  },
  {
   "cell_type": "code",
   "execution_count": 39,
   "id": "FWG5odbbTTT-",
   "metadata": {
    "colab": {
     "base_uri": "https://localhost:8080/"
    },
    "id": "FWG5odbbTTT-",
    "outputId": "678625c5-190e-467e-9388-edced28ef7b8"
   },
   "outputs": [
    {
     "name": "stderr",
     "output_type": "stream",
     "text": [
      "WARNING:tensorflow:Compiled the loaded model, but the compiled metrics have yet to be built. `model.compile_metrics` will be empty until you train or evaluate the model.\n"
     ]
    }
   ],
   "source": [
    "# Save weights\n",
    "siamese_model.save('siamesemodelv2.h5')"
   ]
  },
  {
   "cell_type": "code",
   "execution_count": null,
   "id": "ARSGzZlrbf8f",
   "metadata": {
    "id": "ARSGzZlrbf8f"
   },
   "outputs": [],
   "source": []
  }
 ],
 "metadata": {
  "accelerator": "GPU",
  "colab": {
   "provenance": []
  },
  "gpuClass": "standard",
  "kernelspec": {
   "display_name": "Python 3 (ipykernel)",
   "language": "python",
   "name": "python3"
  },
  "language_info": {
   "codemirror_mode": {
    "name": "ipython",
    "version": 3
   },
   "file_extension": ".py",
   "mimetype": "text/x-python",
   "name": "python",
   "nbconvert_exporter": "python",
   "pygments_lexer": "ipython3",
   "version": "3.10.6"
  }
 },
 "nbformat": 4,
 "nbformat_minor": 5
}
